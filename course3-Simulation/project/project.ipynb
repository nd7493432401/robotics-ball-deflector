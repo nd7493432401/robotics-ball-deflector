{
 "cells": [
  {
   "cell_type": "markdown",
   "metadata": {},
   "source": [
    "## Project - Deflector"
   ]
  },
  {
   "cell_type": "code",
   "execution_count": 1,
   "metadata": {},
   "outputs": [],
   "source": [
    "import sys\n",
    "sys.path.append('../../build')\n",
    "import libry as ry\n",
    "import numpy as np\n",
    "import time"
   ]
  },
  {
   "cell_type": "code",
   "execution_count": 2,
   "metadata": {},
   "outputs": [],
   "source": [
    "#-- REAL WORLD configuration, which is attached to the physics engine\n",
    "RealWorld = ry.Config()\n",
    "RealWorld.addFile(\"../../scenarios/game_scene.g\")"
   ]
  },
  {
   "cell_type": "code",
   "execution_count": 3,
   "metadata": {},
   "outputs": [],
   "source": [
    "# Configure Physics Engine\n",
    "S = RealWorld.simulation(ry.SimulatorEngine.physx, True)\n",
    "# Attach Camera Sensor\n",
    "S.addSensor(\"camera\")\n",
    "camera = RealWorld.frame(\"camera\")"
   ]
  },
  {
   "cell_type": "code",
   "execution_count": 4,
   "metadata": {},
   "outputs": [],
   "source": [
    "#-- MODEL WORLD configuration, this is the data structure on which you represent\n",
    "# what you know about the world and compute things (controls, contacts, etc)\n",
    "C = ry.Config()\n",
    "#D = C.view() #rather use the ConfiguratioViewer below\n",
    "C.addFile(\"../../scenarios/game_scene.g\")"
   ]
  },
  {
   "cell_type": "code",
   "execution_count": 5,
   "metadata": {},
   "outputs": [],
   "source": [
    "#-- using the viewer, you can view configurations or paths\n",
    "V = ry.ConfigurationViewer()\n",
    "V.setConfiguration(C)"
   ]
  },
  {
   "cell_type": "code",
   "execution_count": 6,
   "metadata": {},
   "outputs": [],
   "source": [
    "Xstart = C.getFrameState()\n",
    "# C.selectJoints([\"A_finger1\", \"A_finger2\"], True)"
   ]
  },
  {
   "cell_type": "code",
   "execution_count": 7,
   "metadata": {},
   "outputs": [
    {
     "name": "stdout",
     "output_type": "stream",
     "text": [
      "(16,)\n"
     ]
    }
   ],
   "source": [
    "q = S.get_q()\n",
    "# q = C.getJointState()\n",
    "print(q.shape)"
   ]
  },
  {
   "cell_type": "code",
   "execution_count": 8,
   "metadata": {},
   "outputs": [],
   "source": [
    "# [y,J] = C.evalFeature(ry.FS.oppose, [\"A_finger1\", \"A_finger2\", \"ball1\"])\n",
    "# print(y.shape)\n",
    "# print(J.shape)\n",
    "# y = y * min(.008/np.linalg.norm(y), 1.)\n",
    "# q.shape\n",
    "# q - J.T @ np.linalg.inv(J@J.T + 1e-2*np.eye(y.shape[0])) @ y\n"
   ]
  },
  {
   "cell_type": "code",
   "execution_count": 9,
   "metadata": {},
   "outputs": [],
   "source": [
    "# q = q - J.T @ np.linalg.inv(J@J.T + 1e-2*np.eye(y.shape[0])) @ y"
   ]
  },
  {
   "cell_type": "code",
   "execution_count": 10,
   "metadata": {},
   "outputs": [],
   "source": [
    "tau = .01\n",
    "t = 0\n",
    "\n",
    "while True:\n",
    "    t = t+1\n",
    "    \n",
    "    if t%5 == 0:\n",
    "        [rgb, depth] = S.getImageAndDepth()\n",
    "        \n",
    "    if t==2000:\n",
    "        break\n",
    "        \n",
    "    time.sleep(0.01)\n",
    "    q = S.get_q()\n",
    "    \n",
    "    if t<=300:\n",
    "        [y,J] = RealWorld.evalFeature(ry.FS.positionDiff, [\"A_gripperCenter\", \"ball2\"])\n",
    "        vel = J.T @ np.linalg.inv(J@J.T + 1e-2*np.eye(y.shape[0])) @ (-y)\n",
    "#     if t>=300 and S.getGripperIsGrasping(\"A_gripper\"):\n",
    "#         [y,J] = RealWorld.evalFeature(ry.FS.positionDiff, [\"A_gripperCenter\", \"ball1\"])\n",
    "#         vel = J.T @ np.linalg.inv(J@J.T + 1e-2*np.eye(y.shape[0])) @ (-y)\n",
    "    \n",
    "        \n",
    "#     if S.getGripperIsGrasping(\"A_gripper\"):\n",
    "#         [y,J] = C.evalFeature(ry.FS.position, [\"A_gripper\"]);\n",
    "#         q = q - J.T @ np.linalg.inv(J@J.T + 1e-2*np.eye(y.shape[0])) @ [0.,0.,-2e-4]\n",
    "\n",
    "#     if t==300:\n",
    "#         S.closeGripper(\"A_gripper\")\n",
    "        \n",
    "#     if t==900:\n",
    "#         S.openGripper(\"A_gripper\")\n",
    "        \n",
    "#     if S.getGripperIsGrasping(\"gripper\"):\n",
    "#         [y,J] = C.evalFeature(ry.FS.position, [\"gripper\"]);\n",
    "#         q = q - J.T @ np.linalg.inv(J@J.T + 1e-2*np.eye(y.shape[0])) @ [0.,0.,-2e-4]\n",
    "    \n",
    "    S.step(vel, tau, ry.ControlMode.velocity)"
   ]
  },
  {
   "cell_type": "code",
   "execution_count": null,
   "metadata": {},
   "outputs": [],
   "source": []
  }
 ],
 "metadata": {
  "kernelspec": {
   "display_name": "Python 3",
   "language": "python",
   "name": "python3"
  },
  "language_info": {
   "codemirror_mode": {
    "name": "ipython",
    "version": 3
   },
   "file_extension": ".py",
   "mimetype": "text/x-python",
   "name": "python",
   "nbconvert_exporter": "python",
   "pygments_lexer": "ipython3",
   "version": "3.6.9"
  }
 },
 "nbformat": 4,
 "nbformat_minor": 2
}
