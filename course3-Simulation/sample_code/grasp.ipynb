{
 "cells": [
  {
   "cell_type": "code",
   "execution_count": 1,
   "metadata": {},
   "outputs": [
    {
     "name": "stdout",
     "output_type": "stream",
     "text": [
      "4.2.0\n"
     ]
    }
   ],
   "source": [
    "import sys\n",
    "sys.path.append('../../build')\n",
    "import cv2 as cv\n",
    "import numpy as np\n",
    "import libry as ry\n",
    "import time\n",
    "print(cv.__version__)"
   ]
  },
  {
   "cell_type": "code",
   "execution_count": 2,
   "metadata": {},
   "outputs": [],
   "source": [
    "#Let's edit the real world before we create the simulation\n",
    "RealWorld = ry.Config()\n",
    "RealWorld.addFile(\"../../scenarios/challenge.g\")\n",
    "V = ry.ConfigurationViewer()\n",
    "V.setConfiguration(RealWorld)"
   ]
  },
  {
   "cell_type": "code",
   "execution_count": 3,
   "metadata": {},
   "outputs": [
    {
     "name": "stdout",
     "output_type": "stream",
     "text": [
      "deleting obj1\n",
      "deleting obj2\n",
      "deleting obj3\n",
      "deleting obj4\n",
      "deleting obj5\n",
      "deleting obj6\n",
      "deleting obj7\n",
      "deleting obj8\n",
      "deleting obj9\n",
      "deleting obj10\n",
      "deleting obj11\n",
      "deleting obj12\n",
      "deleting obj13\n",
      "deleting obj14\n",
      "deleting obj15\n",
      "deleting obj16\n",
      "deleting obj17\n",
      "deleting obj18\n",
      "deleting obj19\n",
      "deleting obj20\n",
      "deleting obj21\n",
      "deleting obj22\n",
      "deleting obj23\n",
      "deleting obj24\n",
      "deleting obj25\n",
      "deleting obj26\n",
      "deleting obj27\n",
      "deleting obj28\n",
      "deleting obj29\n"
     ]
    }
   ],
   "source": [
    "#change some colors\n",
    "RealWorld.getFrame(\"obj0\").setColor([1,0,0])\n",
    "RealWorld.getFrame(\"obj1\").setColor([1,0,0])\n",
    "RealWorld.getFrame(\"obj2\").setColor([1,1,0])\n",
    "RealWorld.getFrame(\"obj3\").setColor([1,0,1])\n",
    "RealWorld.getFrame(\"obj4\").setColor([0,1,1])\n",
    "\n",
    "#you can also change the shape & size\n",
    "RealWorld.getFrame(\"obj0\").setShape(ry.ST.ssBox, [.1, .1, .1, .02])\n",
    "RealWorld.getFrame(\"obj0\").setPosition([0.2, .2, 2.])\n",
    "\n",
    "#remove some objects\n",
    "for o in range(1,30):\n",
    "    name = \"obj%i\" % o\n",
    "    print(\"deleting\", name)\n",
    "    RealWorld.delFrame(name)\n",
    "\n",
    "V.recopyMeshes(RealWorld)\n",
    "V.setConfiguration(RealWorld)"
   ]
  },
  {
   "cell_type": "code",
   "execution_count": 4,
   "metadata": {},
   "outputs": [],
   "source": [
    "#-- Add REAL WORLD configuration and camera\n",
    "S = RealWorld.simulation(ry.SimulatorEngine.physx, True)\n",
    "S.addSensor(\"camera\")\n",
    "\n",
    "C = ry.Config()\n",
    "C.addFile('../../scenarios/pandasTable.g')\n",
    "#V = ry.ConfigurationViewer()\n",
    "\n",
    "cameraFrame = C.frame(\"camera\")\n"
   ]
  },
  {
   "cell_type": "code",
   "execution_count": 5,
   "metadata": {},
   "outputs": [],
   "source": [
    "#S = ry.Simulation(C, ry.SimulatorEngine.physx, True)\n",
    "V.setConfiguration(C)"
   ]
  },
  {
   "cell_type": "code",
   "execution_count": 6,
   "metadata": {},
   "outputs": [],
   "source": [
    "#the focal length\n",
    "f = 0.895\n",
    "f = f * 360.\n",
    "fxfypxpy = [f, f, 320., 180.]"
   ]
  },
  {
   "cell_type": "code",
   "execution_count": 7,
   "metadata": {},
   "outputs": [],
   "source": [
    "def depth_data_to_point(pt, fxypxy):\n",
    "    pt[0] =  pt[2] * (pt[0] - fxypxy[2]) / fxypxy[0]\n",
    "    pt[1] = -pt[2] * (pt[1] - fxypxy[3]) / fxypxy[1]\n",
    "    pt[2] = -pt[2]\n",
    "    return pt\n",
    "def camera_to_world(pt, cameraFrame, fxfypxpy):\n",
    "    \"\"\"\n",
    "    pt = np.array([u, v, distance])\n",
    "    \"\"\"\n",
    "    cam_rot = cameraFrame.getRotationMatrix()\n",
    "    cam_trans = cameraFrame.getPosition()\n",
    "    pt = depth_data_to_point(pt, fxfypxpy) @ cam_rot.T + cam_trans\n",
    "    return pt"
   ]
  },
  {
   "cell_type": "code",
   "execution_count": 8,
   "metadata": {},
   "outputs": [],
   "source": [
    "points = []\n",
    "tau = .01\n",
    "for t in range(300):\n",
    "    time.sleep(0.01)\n",
    "    #grab sensor readings from the simulation\n",
    "    q = S.get_q()\n",
    "    if t%10 == 0:\n",
    "        [rgb, depth] = S.getImageAndDepth()  #we don't need images with 100Hz, rendering is slow\n",
    "        points = S.depthData2pointCloud(depth, fxfypxpy)\n",
    "        cameraFrame.setPointCloud(points, rgb)\n",
    "        V.recopyMeshes(C)\n",
    "        V.setConfiguration(C)\n",
    "        \n",
    "#         rgb = cv.cvtColor(rgb, cv.COLOR_BGR2RGB)\n",
    "        hsv = cv.cvtColor(rgb, cv.COLOR_RGB2HSV)\n",
    "        \n",
    "        # Range for lower red\n",
    "        lower_red = np.array([0,120,70])\n",
    "        upper_red = np.array([10,255,255])\n",
    "        mask1 = cv.inRange(hsv, lower_red, upper_red)\n",
    "        # Range for upper range\n",
    "        lower_red = np.array([170,120,70])\n",
    "        upper_red = np.array([180,255,255])\n",
    "        mask2 = cv.inRange(hsv,lower_red,upper_red)\n",
    "        # Generating the final mask to detect red color\n",
    "        mask = mask1+mask2\n",
    "        res = cv.bitwise_and(rgb,rgb,mask = mask)\n",
    "        contours, hier = cv.findContours(mask, cv.RETR_TREE, cv.CHAIN_APPROX_SIMPLE)\n",
    "        if len(contours) != 0:\n",
    "#             cv.drawContours(rgb, contours, -1, (0,255,0), 3)\n",
    "#             cv.drawContours(mask, contours, -1, (0,255,0), 3)\n",
    "            for c in contours:\n",
    "#                 c = max(contours, key = cv.contourArea)\n",
    "                x,y,w,h = cv.boundingRect(c)\n",
    "                cv.rectangle(rgb,(x,y),(x+w,y+h),(0,255,0),2)\n",
    "                x_r = x+int(w/2)\n",
    "                y_r = y+int(h/2)\n",
    "                cv.circle(rgb,(x_r, y_r), 3, (0,255,0), -1)\n",
    "#                 print(x_r, y_r)\n",
    "                pt = [y_r, x_r, depth[y_r, x_r]]\n",
    "                depth_world = camera_to_world(pt,cameraFrame, fxfypxpy)\n",
    "                \n",
    "                font                   = cv.FONT_HERSHEY_SIMPLEX\n",
    "                fontScale              = 0.5\n",
    "                fontColor              = (255,255,255)\n",
    "                lineType               = 2\n",
    "                \n",
    "#                 cv.putText(rgb,str(depth[y_r, x_r]), \n",
    "#                             (x_r,y_r),\n",
    "#                             font, \n",
    "#                             fontScale,\n",
    "#                             fontColor,\n",
    "#                             lineType)\n",
    "                cv.putText(rgb,str(depth_world), \n",
    "                            (x_r,y_r),\n",
    "                            font, \n",
    "                            fontScale,\n",
    "                            fontColor,\n",
    "                            lineType)\n",
    "        # Depth Points to World Coordniates\n",
    "#         depth_world = np.empty([depth.shape[0],depth.shape[1],3])\n",
    "#         for i in range(depth.shape[0]):\n",
    "#             for j in range(depth.shape[1]):\n",
    "#                 pt = [i,j,depth[i,j]]\n",
    "#                 depth_world[i,j] = camera_to_world(pt,cameraFrame, fxfypxpy)\n",
    "        \n",
    "        if len(rgb)>0: cv.imshow('OPENCV - red Mask', cv.cvtColor(res, cv.COLOR_BGR2RGB))\n",
    "        if len(rgb)>0: cv.imshow('OPENCV - rgb', cv.cvtColor(rgb, cv.COLOR_BGR2RGB))\n",
    "        if len(depth)>0: cv.imshow('OPENCV - depth', 0.5* depth)\n",
    "        \n",
    "        if cv.waitKey(1) & 0xFF == ord('q'):\n",
    "            break\n",
    "        \n",
    "    S.step([], tau, ry.ControlMode.none)"
   ]
  },
  {
   "cell_type": "code",
   "execution_count": 15,
   "metadata": {},
   "outputs": [],
   "source": [
    "#cv.destroyAllWindows()"
   ]
  },
  {
   "cell_type": "code",
   "execution_count": 16,
   "metadata": {},
   "outputs": [],
   "source": [
    "obj = C.addFrame(\"obj0\")"
   ]
  },
  {
   "cell_type": "code",
   "execution_count": 11,
   "metadata": {},
   "outputs": [],
   "source": [
    "# set frame parameters, associate a shape to the frame, \n",
    "obj.setPosition([0.2, .2, 2.])\n",
    "obj.setQuaternion([1,0,.5,0])\n",
    "obj.setShape(ry.ST.capsule, [.002,.002])\n",
    "obj.setColor([0,0,0])\n",
    "V.setConfiguration(C)\n",
    "V.recopyMeshes(C) #this is rarely necessary, only when you change meshes within C"
   ]
  },
  {
   "cell_type": "code",
   "execution_count": 12,
   "metadata": {},
   "outputs": [],
   "source": [
    "#-- the following is the simulation loop\n",
    "tau = .01\n",
    "\n",
    "for t in range(300):\n",
    "    time.sleep(0.01)\n",
    "\n",
    "    #grab sensor readings from the simulation\n",
    "    q = S.get_q()\n",
    "    if t%10 == 0:\n",
    "            [rgb, depth] = S.getImageAndDepth()  #we don't need images with 100Hz, rendering is slow\n",
    "\n",
    "    #some good old fashioned IK\n",
    "    C.setJointState(q) #set your robot model to match the real q\n",
    "\n",
    "    V.setConfiguration(C) #to update your model display\n",
    "    [y,J] = C.evalFeature(ry.FS.positionDiff, [\"R_gripperCenter\", \"obj0\"])\n",
    "    vel = J.T @ np.linalg.inv(J@J.T + 1e-2*np.eye(y.shape[0])) @ (-y);\n",
    "\n",
    "    #send velocity controls to the simulation\n",
    "    S.step(vel, tau, ry.ControlMode.velocity)\n",
    "    V.setConfiguration(C)"
   ]
  },
  {
   "cell_type": "code",
   "execution_count": 13,
   "metadata": {},
   "outputs": [],
   "source": []
  },
  {
   "cell_type": "code",
   "execution_count": 14,
   "metadata": {},
   "outputs": [],
   "source": [
    "# Here we do not need a simulation world\n",
    "# adding a configuration world\n",
    "C = ry.Config()\n",
    "C.addFile(\"../../scenarios/pandasTable.g\")\n",
    "V = ry.ConfigurationViewer()\n",
    "V.setConfiguration(C)"
   ]
  },
  {
   "cell_type": "code",
   "execution_count": 15,
   "metadata": {},
   "outputs": [],
   "source": []
  },
  {
   "cell_type": "code",
   "execution_count": 16,
   "metadata": {},
   "outputs": [],
   "source": [
    "R_gripper = C.frame(\"R_gripper\")\n",
    "R_gripper.setContact(1)\n",
    "obj.setContact(1)"
   ]
  },
  {
   "cell_type": "code",
   "execution_count": 17,
   "metadata": {},
   "outputs": [],
   "source": [
    "IK = C.komo_IK(False)\n",
    "IK.addObjective([], ry.FS.accumulatedCollisions, [], ry.OT.ineq, [1e2])\n",
    "IK.addObjective([1.], ry.FS.positionDiff, [\"R_gripperCenter\", \"obj0\"], ry.OT.sos, [1e2]);"
   ]
  },
  {
   "cell_type": "code",
   "execution_count": 18,
   "metadata": {},
   "outputs": [
    {
     "data": {
      "text/plain": [
       "[{'x_dim': 16, 'T': 1, 'k_order': 1, 'tau': 1.0, 'useSwift': False},\n",
       " {'order': 1.0,\n",
       "  'type': 'sos',\n",
       "  'feature': 'qItself#32',\n",
       "  'vars': [-1, 0],\n",
       "  'sos_sumOfSqr': 0.15215186186792007},\n",
       " {'order': 0.0,\n",
       "  'type': 'eq',\n",
       "  'feature': 'QuaternionNorms',\n",
       "  'vars': [0],\n",
       "  'eq_sumOfAbs': 0.0},\n",
       " {'order': 0.0,\n",
       "  'type': 'ineq',\n",
       "  'feature': 'ProxyCost',\n",
       "  'vars': [0],\n",
       "  'inEq_sumOfPos': 0.0},\n",
       " {'order': 0.0,\n",
       "  'type': 'sos',\n",
       "  'feature': 'Default-0-posDiff-R_gripperCenter-WORLD',\n",
       "  'vars': [0],\n",
       "  'sos_sumOfSqr': 559.5054817254124}]"
      ]
     },
     "execution_count": 18,
     "metadata": {},
     "output_type": "execute_result"
    }
   ],
   "source": [
    "# Calling the optimizer (True means random initialization/restart)\n",
    "IK.optimize()\n",
    "IK.getReport()"
   ]
  },
  {
   "cell_type": "code",
   "execution_count": 19,
   "metadata": {},
   "outputs": [],
   "source": [
    "C.setFrameState( IK.getConfiguration(0) )\n",
    "V.setConfiguration(C) #to update your model display"
   ]
  },
  {
   "cell_type": "code",
   "execution_count": 20,
   "metadata": {},
   "outputs": [
    {
     "name": "stdout",
     "output_type": "stream",
     "text": [
      "[{'x_dim': 16, 'T': 1, 'k_order': 1, 'tau': 1.0, 'useSwift': False}, {'order': 1.0, 'type': 'sos', 'feature': 'qItself#32', 'vars': [-1, 0], 'sos_sumOfSqr': 1.0406443480707795e-06}, {'order': 0.0, 'type': 'eq', 'feature': 'QuaternionNorms', 'vars': [0], 'eq_sumOfAbs': 0.0}, {'order': 0.0, 'type': 'ineq', 'feature': 'ProxyCost', 'vars': [0], 'inEq_sumOfPos': 0.0}, {'order': 0.0, 'type': 'sos', 'feature': 'Default-0-posDiff-R_gripperCenter-WORLD', 'vars': [0], 'sos_sumOfSqr': 558.1634747694275}]\n"
     ]
    }
   ],
   "source": [
    "# Move object and reoptimize\n",
    "\n",
    "# move object\n",
    "obj.setPosition([.2,.2,1.5])\n",
    "\n",
    "# copy C into the IK's internal configuration(s)\n",
    "IK.setConfigurations(C)\n",
    "\n",
    "# reoptimize\n",
    "IK.optimize(0.) # 0 indicates: no adding of noise for a random restart\n",
    "print(IK.getReport())\n",
    "\n",
    "# grab result\n",
    "C.setFrameState( IK.getConfiguration(0) )\n",
    "V.setConfiguration(C) #to update your model display"
   ]
  },
  {
   "cell_type": "code",
   "execution_count": null,
   "metadata": {},
   "outputs": [],
   "source": []
  },
  {
   "cell_type": "code",
   "execution_count": null,
   "metadata": {},
   "outputs": [],
   "source": []
  }
 ],
 "metadata": {
  "kernelspec": {
   "display_name": "Python 3",
   "language": "python",
   "name": "python3"
  },
  "language_info": {
   "codemirror_mode": {
    "name": "ipython",
    "version": 3
   },
   "file_extension": ".py",
   "mimetype": "text/x-python",
   "name": "python",
   "nbconvert_exporter": "python",
   "pygments_lexer": "ipython3",
   "version": "3.6.9"
  }
 },
 "nbformat": 4,
 "nbformat_minor": 2
}
